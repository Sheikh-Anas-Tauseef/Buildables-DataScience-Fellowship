{
 "cells": [
  {
   "cell_type": "markdown",
   "id": "e5db361c",
   "metadata": {},
   "source": [
    "## Task: Mean, Median, Mode of Sepal Length"
   ]
  },
  {
   "cell_type": "code",
   "execution_count": 11,
   "id": "be4ac7c8",
   "metadata": {},
   "outputs": [
    {
     "data": {
      "text/html": [
       "<div>\n",
       "<style scoped>\n",
       "    .dataframe tbody tr th:only-of-type {\n",
       "        vertical-align: middle;\n",
       "    }\n",
       "\n",
       "    .dataframe tbody tr th {\n",
       "        vertical-align: top;\n",
       "    }\n",
       "\n",
       "    .dataframe thead th {\n",
       "        text-align: right;\n",
       "    }\n",
       "</style>\n",
       "<table border=\"1\" class=\"dataframe\">\n",
       "  <thead>\n",
       "    <tr style=\"text-align: right;\">\n",
       "      <th></th>\n",
       "      <th>sepal length (cm)</th>\n",
       "      <th>sepal width (cm)</th>\n",
       "      <th>petal length (cm)</th>\n",
       "      <th>petal width (cm)</th>\n",
       "      <th>target</th>\n",
       "    </tr>\n",
       "  </thead>\n",
       "  <tbody>\n",
       "    <tr>\n",
       "      <th>0</th>\n",
       "      <td>5.1</td>\n",
       "      <td>3.5</td>\n",
       "      <td>1.4</td>\n",
       "      <td>0.2</td>\n",
       "      <td>0</td>\n",
       "    </tr>\n",
       "    <tr>\n",
       "      <th>1</th>\n",
       "      <td>4.9</td>\n",
       "      <td>3.0</td>\n",
       "      <td>1.4</td>\n",
       "      <td>0.2</td>\n",
       "      <td>0</td>\n",
       "    </tr>\n",
       "    <tr>\n",
       "      <th>2</th>\n",
       "      <td>4.7</td>\n",
       "      <td>3.2</td>\n",
       "      <td>1.3</td>\n",
       "      <td>0.2</td>\n",
       "      <td>0</td>\n",
       "    </tr>\n",
       "    <tr>\n",
       "      <th>3</th>\n",
       "      <td>4.6</td>\n",
       "      <td>3.1</td>\n",
       "      <td>1.5</td>\n",
       "      <td>0.2</td>\n",
       "      <td>0</td>\n",
       "    </tr>\n",
       "    <tr>\n",
       "      <th>4</th>\n",
       "      <td>5.0</td>\n",
       "      <td>3.6</td>\n",
       "      <td>1.4</td>\n",
       "      <td>0.2</td>\n",
       "      <td>0</td>\n",
       "    </tr>\n",
       "  </tbody>\n",
       "</table>\n",
       "</div>"
      ],
      "text/plain": [
       "   sepal length (cm)  sepal width (cm)  petal length (cm)  petal width (cm)  \\\n",
       "0                5.1               3.5                1.4               0.2   \n",
       "1                4.9               3.0                1.4               0.2   \n",
       "2                4.7               3.2                1.3               0.2   \n",
       "3                4.6               3.1                1.5               0.2   \n",
       "4                5.0               3.6                1.4               0.2   \n",
       "\n",
       "   target  \n",
       "0       0  \n",
       "1       0  \n",
       "2       0  \n",
       "3       0  \n",
       "4       0  "
      ]
     },
     "execution_count": 11,
     "metadata": {},
     "output_type": "execute_result"
    }
   ],
   "source": [
    "import pandas as pd\n",
    "import numpy as np\n",
    "from sklearn.datasets import load_iris\n",
    "import matplotlib.pyplot as plt\n",
    "import seaborn as sns\n",
    "from scipy import stats\n",
    "\n",
    "# Load iris dataset\n",
    "iris = load_iris(as_frame=True)\n",
    "df = iris.frame\n",
    "df.head()"
   ]
  },
  {
   "cell_type": "markdown",
   "id": "37139555",
   "metadata": {},
   "source": [
    "#### We loaded the classic Iris dataset, which contains measurements of sepal length, sepal width, petal length, and petal width for three iris species. This dataset is widely used in statistics and machine learning. The .head() function displays the first five rows so we can understand its structure"
   ]
  },
  {
   "cell_type": "markdown",
   "metadata": {},
   "source": [
    "## Task: Variance & Std of Petal Width"
   ]
  },
  {
   "cell_type": "code",
   "execution_count": 13,
   "id": "4f53d655",
   "metadata": {},
   "outputs": [
    {
     "data": {
      "text/plain": [
       "(np.float64(5.843333333333334), np.float64(5.8), np.float64(5.0))"
      ]
     },
     "execution_count": 13,
     "metadata": {},
     "output_type": "execute_result"
    }
   ],
   "source": [
    "mean_sepal_length = df['sepal length (cm)'].mean()\n",
    "median_sepal_length = df['sepal length (cm)'].median()\n",
    "mode_sepal_length = df['sepal length (cm)'].mode()[0]\n",
    "\n",
    "mean_sepal_length, median_sepal_length, mode_sepal_length"
   ]
  },
  {
   "cell_type": "markdown",
   "id": "aeafa34c",
   "metadata": {},
   "source": [
    "#### The mean represents the average sepal length, the median shows the middle value, and the mode highlights the most frequent measurement. If mean and median are close, the data is fairly symmetric. A difference between them would suggest skewness in sepal lengths."
   ]
  },
  {
   "cell_type": "markdown",
   "id": "28437458",
   "metadata": {},
   "source": [
    "## Task: Summary Stats Table"
   ]
  },
  {
   "cell_type": "code",
   "execution_count": 14,
   "id": "165c2836",
   "metadata": {},
   "outputs": [
    {
     "data": {
      "text/plain": [
       "(np.float64(0.5810062639821029), np.float64(0.7622376689603465))"
      ]
     },
     "execution_count": 14,
     "metadata": {},
     "output_type": "execute_result"
    }
   ],
   "source": [
    "variance_petal_width = df['petal width (cm)'].var()\n",
    "std_petal_width = df['petal width (cm)'].std()\n",
    "\n",
    "variance_petal_width, std_petal_width"
   ]
  },
  {
   "cell_type": "markdown",
   "id": "c0e16c67",
   "metadata": {},
   "source": [
    "#### Variance measures how spread out the petal widths are from the mean. Standard deviation is its square root, showing the average distance of values from the mean in the same units. A higher standard deviation means more variability among petal widths."
   ]
  },
  {
   "cell_type": "markdown",
   "id": "e3435c40",
   "metadata": {},
   "source": [
    "## Task: Summary Statistics"
   ]
  },
  {
   "cell_type": "code",
   "execution_count": 15,
   "id": "8b2ac24b",
   "metadata": {},
   "outputs": [
    {
     "data": {
      "text/html": [
       "<div>\n",
       "<style scoped>\n",
       "    .dataframe tbody tr th:only-of-type {\n",
       "        vertical-align: middle;\n",
       "    }\n",
       "\n",
       "    .dataframe tbody tr th {\n",
       "        vertical-align: top;\n",
       "    }\n",
       "\n",
       "    .dataframe thead th {\n",
       "        text-align: right;\n",
       "    }\n",
       "</style>\n",
       "<table border=\"1\" class=\"dataframe\">\n",
       "  <thead>\n",
       "    <tr style=\"text-align: right;\">\n",
       "      <th></th>\n",
       "      <th>mean</th>\n",
       "      <th>median</th>\n",
       "      <th>variance</th>\n",
       "      <th>std_dev</th>\n",
       "    </tr>\n",
       "  </thead>\n",
       "  <tbody>\n",
       "    <tr>\n",
       "      <th>sepal length (cm)</th>\n",
       "      <td>5.843333</td>\n",
       "      <td>5.80</td>\n",
       "      <td>0.685694</td>\n",
       "      <td>0.828066</td>\n",
       "    </tr>\n",
       "    <tr>\n",
       "      <th>sepal width (cm)</th>\n",
       "      <td>3.057333</td>\n",
       "      <td>3.00</td>\n",
       "      <td>0.189979</td>\n",
       "      <td>0.435866</td>\n",
       "    </tr>\n",
       "    <tr>\n",
       "      <th>petal length (cm)</th>\n",
       "      <td>3.758000</td>\n",
       "      <td>4.35</td>\n",
       "      <td>3.116278</td>\n",
       "      <td>1.765298</td>\n",
       "    </tr>\n",
       "    <tr>\n",
       "      <th>petal width (cm)</th>\n",
       "      <td>1.199333</td>\n",
       "      <td>1.30</td>\n",
       "      <td>0.581006</td>\n",
       "      <td>0.762238</td>\n",
       "    </tr>\n",
       "    <tr>\n",
       "      <th>target</th>\n",
       "      <td>1.000000</td>\n",
       "      <td>1.00</td>\n",
       "      <td>0.671141</td>\n",
       "      <td>0.819232</td>\n",
       "    </tr>\n",
       "  </tbody>\n",
       "</table>\n",
       "</div>"
      ],
      "text/plain": [
       "                       mean  median  variance   std_dev\n",
       "sepal length (cm)  5.843333    5.80  0.685694  0.828066\n",
       "sepal width (cm)   3.057333    3.00  0.189979  0.435866\n",
       "petal length (cm)  3.758000    4.35  3.116278  1.765298\n",
       "petal width (cm)   1.199333    1.30  0.581006  0.762238\n",
       "target             1.000000    1.00  0.671141  0.819232"
      ]
     },
     "execution_count": 15,
     "metadata": {},
     "output_type": "execute_result"
    }
   ],
   "source": [
    "summary_stats = pd.DataFrame({\n",
    "    \"mean\": df.mean(),\n",
    "    \"median\": df.median(),\n",
    "    \"variance\": df.var(),\n",
    "    \"std_dev\": df.std()\n",
    "})\n",
    "summary_stats"
   ]
  },
  {
   "cell_type": "markdown",
   "id": "8c0d9968",
   "metadata": {},
   "source": [
    "#### This table summarizes central tendency (mean, median) and spread (variance, std) for all four features. Comparing these values allows us to see which features have larger variability. For example, petal length generally shows more spread than sepal width."
   ]
  },
  {
   "cell_type": "markdown",
   "id": "2133b386",
   "metadata": {},
   "source": [
    "## Task: Probability Distribution of Sepal Length"
   ]
  },
  {
   "cell_type": "code",
   "execution_count": 16,
   "id": "d2e13121",
   "metadata": {},
   "outputs": [
    {
     "data": {
      "text/plain": [
       "sepal length (cm)\n",
       "4.3    0.006667\n",
       "4.4    0.020000\n",
       "4.5    0.006667\n",
       "4.6    0.026667\n",
       "4.7    0.013333\n",
       "4.8    0.033333\n",
       "4.9    0.040000\n",
       "5.0    0.066667\n",
       "5.1    0.060000\n",
       "5.2    0.026667\n",
       "5.3    0.006667\n",
       "5.4    0.040000\n",
       "5.5    0.046667\n",
       "5.6    0.040000\n",
       "5.7    0.053333\n",
       "5.8    0.046667\n",
       "5.9    0.020000\n",
       "6.0    0.040000\n",
       "6.1    0.040000\n",
       "6.2    0.026667\n",
       "6.3    0.060000\n",
       "6.4    0.046667\n",
       "6.5    0.033333\n",
       "6.6    0.013333\n",
       "6.7    0.053333\n",
       "6.8    0.020000\n",
       "6.9    0.026667\n",
       "7.0    0.006667\n",
       "7.1    0.006667\n",
       "7.2    0.020000\n",
       "7.3    0.006667\n",
       "7.4    0.006667\n",
       "7.6    0.006667\n",
       "7.7    0.026667\n",
       "7.9    0.006667\n",
       "Name: proportion, dtype: float64"
      ]
     },
     "execution_count": 16,
     "metadata": {},
     "output_type": "execute_result"
    }
   ],
   "source": [
    "sepal_length = df['sepal length (cm)']\n",
    "prob_dist = sepal_length.value_counts(normalize=True).sort_index()\n",
    "prob_dist"
   ]
  },
  {
   "cell_type": "markdown",
   "id": "4558671c",
   "metadata": {},
   "source": [
    "#### The probability distribution shows the likelihood of each unique sepal length occurring in the dataset. Values are normalized to sum up to 1, meaning each number represents the fraction of flowers with that specific sepal length."
   ]
  },
  {
   "cell_type": "markdown",
   "id": "7601a955",
   "metadata": {},
   "source": [
    "## Task: Histogram of Sepal Lengths"
   ]
  },
  {
   "cell_type": "code",
   "execution_count": 17,
   "id": "dca77a8d",
   "metadata": {},
   "outputs": [
    {
     "data": {
      "image/png": "[encoded data removed]",
      "text/plain": [
       "<Figure size 800x500 with 1 Axes>"
      ]
     },
     "metadata": {},
     "output_type": "display_data"
    }
   ],
   "source": [
    "plt.figure(figsize=(8,5))\n",
    "plt.hist(sepal_length, bins=10, density=True, color='skyblue', edgecolor='black')\n",
    "plt.title(\"Probability Distribution of Sepal Lengths\")\n",
    "plt.xlabel(\"Sepal Length (cm)\")\n",
    "plt.ylabel(\"Probability\")\n",
    "plt.show()"
   ]
  },
  {
   "cell_type": "markdown",
   "id": "dd50fa69",
   "metadata": {},
   "source": [
    "#### The histogram visualizes how sepal lengths are distributed. Taller bars mean more flowers fall within that length range. The overall shape can suggest normality, skewness, or concentration of values. This helps us see patterns at a glance."
   ]
  },
  {
   "cell_type": "markdown",
   "id": "2e0b1c4a",
   "metadata": {},
   "source": [
    "## Task: CDF of Petal Lengths"
   ]
  },
  {
   "cell_type": "code",
   "execution_count": 18,
   "id": "ed857a75",
   "metadata": {},
   "outputs": [
    {
     "data": {
      "image/png": "[encoded data removed]",
      "text/plain": [
       "<Figure size 800x500 with 1 Axes>"
      ]
     },
     "metadata": {},
     "output_type": "display_data"
    }
   ],
   "source": [
    "petal_length = df['petal length (cm)']\n",
    "sorted_data = np.sort(petal_length)\n",
    "cdf = np.arange(1, len(sorted_data)+1) / len(sorted_data)\n",
    "\n",
    "plt.figure(figsize=(8,5))\n",
    "plt.plot(sorted_data, cdf, marker=\".\", linestyle=\"none\")\n",
    "plt.title(\"CDF of Petal Lengths\")\n",
    "plt.xlabel(\"Petal Length (cm)\")\n",
    "plt.ylabel(\"CDF\")\n",
    "plt.show()"
   ]
  },
  {
   "cell_type": "markdown",
   "id": "7258ca80",
   "metadata": {},
   "source": [
    "#### The CDF shows the cumulative probability that a petal length is less than or equal to a given value. For example, at petal length ~2 cm, the CDF indicates the percentage of flowers with shorter petals. It’s useful for percentile analysis."
   ]
  },
  {
   "cell_type": "markdown",
   "id": "6b6d45a2",
   "metadata": {},
   "source": [
    "## Task: PDF of Sepal Widths"
   ]
  },
  {
   "cell_type": "code",
   "execution_count": 19,
   "id": "befde702",
   "metadata": {},
   "outputs": [
    {
     "data": {
      "image/png": "[encoded data removed]",
      "text/plain": [
       "<Figure size 800x500 with 1 Axes>"
      ]
     },
     "metadata": {},
     "output_type": "display_data"
    }
   ],
   "source": [
    "sepal_width = df['sepal width (cm)']\n",
    "pdf = stats.norm.pdf(sorted(sepal_width), sepal_width.mean(), sepal_width.std())\n",
    "\n",
    "plt.figure(figsize=(8,5))\n",
    "plt.plot(sorted(sepal_width), pdf, color=\"red\")\n",
    "plt.title(\"PDF of Sepal Widths\")\n",
    "plt.xlabel(\"Sepal Width (cm)\")\n",
    "plt.ylabel(\"PDF\")\n",
    "plt.show()"
   ]
  },
  {
   "cell_type": "markdown",
   "id": "110ab0a0",
   "metadata": {},
   "source": [
    "#### The probability density function models sepal width as a normal distribution. Peaks show the most likely values, while tails represent rarer ones. Unlike histograms, the PDF is continuous, letting us estimate probabilities for any given interval."
   ]
  },
  {
   "cell_type": "markdown",
   "id": "24e12400",
   "metadata": {},
   "source": [
    "## Task: Probability Estimation"
   ]
  },
  {
   "cell_type": "code",
   "execution_count": 20,
   "id": "4562d6cd",
   "metadata": {},
   "outputs": [
    {
     "data": {
      "text/plain": [
       "np.float64(0.42)"
      ]
     },
     "execution_count": 20,
     "metadata": {},
     "output_type": "execute_result"
    }
   ],
   "source": [
    "threshold = 4.5\n",
    "probability = np.mean(petal_length > threshold)\n",
    "probability"
   ]
  },
  {
   "cell_type": "markdown",
   "id": "5974036f",
   "metadata": {},
   "source": [
    "#### This calculates the probability of picking a flower with petal length greater than 4.5 cm. It simply counts how many flowers meet the condition and divides by the total. The result shows how common longer petals are in the dataset."
   ]
  },
  {
   "cell_type": "markdown",
   "id": "464cd1cd",
   "metadata": {},
   "source": [
    "## Task: Hypothesis Testing (t-test)"
   ]
  },
  {
   "cell_type": "code",
   "execution_count": 21,
   "id": "7533c7e8",
   "metadata": {},
   "outputs": [
    {
     "data": {
      "text/plain": [
       "(np.float64(-39.492719391538095), np.float64(5.404910513441677e-62))"
      ]
     },
     "execution_count": 21,
     "metadata": {},
     "output_type": "execute_result"
    }
   ],
   "source": [
    "setosa = df[df['target'] == 0]['petal length (cm)']\n",
    "versicolor = df[df['target'] == 1]['petal length (cm)']\n",
    "\n",
    "t_stat, p_val = stats.ttest_ind(setosa, versicolor)\n",
    "t_stat, p_val"
   ]
  },
  {
   "cell_type": "markdown",
   "id": "6bfd8356",
   "metadata": {},
   "source": [
    "#### The t-test checks if mean petal lengths of Setosa and Versicolor differ significantly. A small p-value (typically < 0.05) means the difference is statistically significant. A large p-value means any difference may be due to random chance."
   ]
  },
  {
   "cell_type": "markdown",
   "id": "a9058d60",
   "metadata": {},
   "source": [
    "## Task: Covariance & Correlation"
   ]
  },
  {
   "cell_type": "code",
   "execution_count": 22,
   "id": "7ddadd27",
   "metadata": {},
   "outputs": [
    {
     "data": {
      "text/plain": [
       "(np.float64(-0.0424340044742729), np.float64(-0.11756978413300198))"
      ]
     },
     "execution_count": 22,
     "metadata": {},
     "output_type": "execute_result"
    }
   ],
   "source": [
    "covariance = np.cov(df['sepal length (cm)'], df['sepal width (cm)'])[0,1]\n",
    "correlation = np.corrcoef(df['sepal length (cm)'], df['sepal width (cm)'])[0,1]\n",
    "\n",
    "covariance, correlation"
   ]
  },
  {
   "cell_type": "markdown",
   "id": "4a34a8f2",
   "metadata": {},
   "source": [
    "#### Covariance shows whether the two features move together (positive) or oppositely (negative). Correlation standardizes this relationship between -1 and 1. A correlation near 0 means little linear relationship, while near ±1 means a strong one."
   ]
  }
 ],
 "metadata": {
  "kernelspec": {
   "display_name": "Python 3",
   "language": "python",
   "name": "python3"
  },
  "language_info": {
   "codemirror_mode": {
    "name": "ipython",
    "version": 3
   },
   "file_extension": ".py",
   "mimetype": "text/x-python",
   "name": "python",
   "nbconvert_exporter": "python",
   "pygments_lexer": "ipython3",
   "version": "3.13.5"
  }
 },
 "nbformat": 4,
 "nbformat_minor": 5
}
