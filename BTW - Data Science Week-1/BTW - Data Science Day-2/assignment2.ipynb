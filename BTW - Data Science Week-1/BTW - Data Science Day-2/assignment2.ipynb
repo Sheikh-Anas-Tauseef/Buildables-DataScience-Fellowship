{
 "cells": [
  {
   "cell_type": "markdown",
   "id": "18464ee0-7f6b-4f71-83b2-c1202706101f",
   "metadata": {},
   "source": [
    "#### Task 1: Recursive Factorial"
   ]
  },
  {
   "cell_type": "code",
   "execution_count": 1,
   "id": "f4132847-58d9-46ad-853b-8dea3a36d2a0",
   "metadata": {},
   "outputs": [
    {
     "name": "stdout",
     "output_type": "stream",
     "text": [
      "The Factorial of 5 is 120.\n"
     ]
    }
   ],
   "source": [
    "def factorial(n):\n",
    "    if n==0 or n==1:\n",
    "        return 1\n",
    "    return n*factorial(n-1)\n",
    "n=5\n",
    "print(f\"The Factorial of {n} is {factorial(n)}.\")"
   ]
  },
  {
   "cell_type": "markdown",
   "id": "786d4bd3-4034-45f9-9993-0654aaceb2d1",
   "metadata": {},
   "source": [
    "#### Task 2: Palindrome Linked list"
   ]
  },
  {
   "cell_type": "code",
   "execution_count": 3,
   "id": "207e6493-7427-43d0-9b3c-02195495dc30",
   "metadata": {},
   "outputs": [
    {
     "name": "stdout",
     "output_type": "stream",
     "text": [
      "The Linked list is Palindrome.\n"
     ]
    }
   ],
   "source": [
    "class Node:\n",
    "    def __init__(self,data):\n",
    "        self.data = data\n",
    "        self.next = None\n",
    "def is_palindrome(head):\n",
    "    vals = []\n",
    "    while head:\n",
    "        vals.append(head.data)\n",
    "        head=head.next\n",
    "    return vals == vals[::-1]\n",
    "\n",
    "head=Node(1)\n",
    "head.next = Node(2)\n",
    "head.next.next=Node(3)\n",
    "head.next.next.next=Node(2)\n",
    "head.next.next.next=Node(1)\n",
    "\n",
    "if is_palindrome(head):\n",
    "    print(\"The Linked list is Palindrome.\")\n",
    "else:\n",
    "    print(\"The Linked list is Palindrome.\")"
   ]
  },
  {
   "cell_type": "markdown",
   "id": "096888e6-15db-4c3c-9c0a-9480790a650f",
   "metadata": {},
   "source": [
    "#### Task 3. Merge Sorted Array"
   ]
  },
  {
   "cell_type": "code",
   "execution_count": 4,
   "id": "6ba3b887-37bf-42fc-a25e-731c110e2583",
   "metadata": {},
   "outputs": [
    {
     "name": "stdout",
     "output_type": "stream",
     "text": [
      "[1, 2, 3, 4, 5, 6]\n"
     ]
    }
   ],
   "source": [
    "def merge_sorted(arr1,arr2):\n",
    "    return sorted(arr1+arr2)\n",
    "print(merge_sorted([1,3,5],[2,4,6]))"
   ]
  },
  {
   "cell_type": "markdown",
   "id": "9e6bd984-8836-4d5a-81f0-fc7c3c74946f",
   "metadata": {},
   "source": [
    "#### Task 4. Binary Search Tree"
   ]
  },
  {
   "cell_type": "code",
   "execution_count": 16,
   "id": "bfd2cc21-709d-4890-bacd-e4530f04f3cf",
   "metadata": {},
   "outputs": [
    {
     "name": "stdout",
     "output_type": "stream",
     "text": [
      "Inorder Triversal:\n",
      "3 5 7 10 12 15 18 \n",
      "Search 7: False\n",
      "\n",
      "Search 20: False\n"
     ]
    }
   ],
   "source": [
    "class BSTNode:\n",
    "    def __init__(self,key):\n",
    "        self.key = key\n",
    "        self.left= None\n",
    "        self.right=None\n",
    "    def insert(self,key):\n",
    "        if key<self.key:\n",
    "            if self.left:\n",
    "                self.left.insert(key)\n",
    "            else:\n",
    "                self.left=BSTNode(key)\n",
    "        elif key>self.key:\n",
    "            if self.right:\n",
    "                self.right.insert(key)\n",
    "            else:\n",
    "                self.right=BSTNode(key)\n",
    "    def search(self,key):\n",
    "        if self.key==key:\n",
    "            return True\n",
    "        elif key < self.key and self.left:\n",
    "            return self.left.search(key)\n",
    "        elif key < self.key and self.right:\n",
    "            return self.right.search(key)\n",
    "        return False\n",
    "    def inorder(self):\n",
    "        if self.left:\n",
    "            self.left.inorder()\n",
    "        print(self.key,end=\" \")\n",
    "        if self.right:\n",
    "            self.right.inorder()\n",
    "\n",
    "root=BSTNode(10)\n",
    "for num in [5,15,3,7,12,18]:\n",
    "    root.insert(num)\n",
    "print(\"Inorder Triversal:\")\n",
    "root.inorder()\n",
    "print(\"\\nSearch 7:\",root.search(7))\n",
    "print(\"\\nSearch 20:\",root.search(20))\n",
    "        "
   ]
  },
  {
   "cell_type": "markdown",
   "id": "a3b645af-b97b-40d4-b710-f9c0057d5fe3",
   "metadata": {},
   "source": [
    "#### Task 5. Longest Palindromic Substring"
   ]
  },
  {
   "cell_type": "code",
   "execution_count": 17,
   "id": "0d7a397b-f825-4b3f-9123-ea4e389d893d",
   "metadata": {},
   "outputs": [
    {
     "name": "stdout",
     "output_type": "stream",
     "text": [
      "bab\n",
      "bb\n"
     ]
    }
   ],
   "source": [
    "def longest_palindrome(s):\n",
    "    res=\"\"\n",
    "    for i in range(len(s)):\n",
    "        for j in range(i,len(s)):\n",
    "            sub = s[i:j+1]\n",
    "            if sub == sub[::-1] and len(sub)>len(res):\n",
    "                res=sub\n",
    "    return res\n",
    "print(longest_palindrome(\"babad\"))\n",
    "print(longest_palindrome(\"cbbd\"))"
   ]
  },
  {
   "cell_type": "markdown",
   "id": "bc2762e4-ddff-469e-9eac-cca6b954f772",
   "metadata": {},
   "source": [
    "#### Task 6. Merge Intervals"
   ]
  },
  {
   "cell_type": "code",
   "execution_count": 18,
   "id": "16da74cc-d883-4cd8-bf6e-c197670a9a50",
   "metadata": {},
   "outputs": [
    {
     "name": "stdout",
     "output_type": "stream",
     "text": [
      "[(1, 3)]\n"
     ]
    }
   ],
   "source": [
    "def merge_intervals(intervals):\n",
    "    intervals.sort(key=lambda x: x[0] )\n",
    "    merged = []\n",
    "    for interval in intervals:\n",
    "        if not merged or merged[-1][1]<interval[0]:\n",
    "            merged.append(interval)\n",
    "        else:\n",
    "            merged[-1]=(merged[-1][0],max(merged[-1][1],interval[1]))\n",
    "        return merged\n",
    "\n",
    "print(merge_intervals([(1,3),(2,6),(8,10),(15,18)]))"
   ]
  },
  {
   "cell_type": "markdown",
   "id": "5e81454e-30f5-419a-8608-1ac6ee4c795e",
   "metadata": {},
   "source": [
    "#### Task 7. Maximum Subarray (kadanes Algorithm) "
   ]
  },
  {
   "cell_type": "code",
   "execution_count": 21,
   "id": "5381f6db-b5dc-4a3b-8642-cab58429effc",
   "metadata": {},
   "outputs": [
    {
     "name": "stdout",
     "output_type": "stream",
     "text": [
      "6\n"
     ]
    }
   ],
   "source": [
    "def max_subarray(nums):\n",
    "    max_sum = curr_sum = nums[0]\n",
    "    for num in nums[1:]:\n",
    "        curr_sum= max(num,curr_sum+num)\n",
    "        max_sum=max(max_sum,curr_sum)\n",
    "    return max_sum\n",
    "print(max_subarray([-2,1,-3,4,-1,2,1,-5,4]))"
   ]
  },
  {
   "cell_type": "markdown",
   "id": "0d0c2323-1964-467e-97bf-a0445de15d04",
   "metadata": {},
   "source": [
    "#### Task 8. Reverse Linked List"
   ]
  },
  {
   "cell_type": "code",
   "execution_count": 23,
   "id": "665cd996-62ad-434f-9834-1995fa59eaa2",
   "metadata": {},
   "outputs": [
    {
     "name": "stdout",
     "output_type": "stream",
     "text": [
      "5 -> 4 -> 3 -> 2 -> 1"
     ]
    }
   ],
   "source": [
    "def reverse_list(head):\n",
    "    prev = None\n",
    "    curr = head\n",
    "    while curr:\n",
    "        nxt= curr.next\n",
    "        curr.next=prev\n",
    "        prev=curr\n",
    "        curr=nxt\n",
    "    return prev\n",
    "\n",
    "head = Node(1)\n",
    "head.next = Node(2)\n",
    "head.next.next=Node(3)\n",
    "head.next.next.next=Node(4)\n",
    "head.next.next.next.next=Node(5)\n",
    "\n",
    "rev = reverse_list(head)\n",
    "while rev:\n",
    "    print(rev.data,end=\" -> \" if rev.next else \"\")\n",
    "    rev=rev.next"
   ]
  },
  {
   "cell_type": "markdown",
   "id": "b1889a1c-196b-46e1-b92f-bc365f2059b9",
   "metadata": {},
   "source": [
    "#### Task 9. Minimum Edit Distance"
   ]
  },
  {
   "cell_type": "code",
   "execution_count": 25,
   "id": "44932cb1-17cb-405c-a2f2-a93a9b8c59de",
   "metadata": {},
   "outputs": [
    {
     "name": "stdout",
     "output_type": "stream",
     "text": [
      "3\n"
     ]
    }
   ],
   "source": [
    "def edit_distance(word1,word2):\n",
    "    dp=[[0]*(len(word2)+1) for _ in range(len(word1)+1)]\n",
    "    for i in range(len(word1)+1):\n",
    "        for j in range(len(word2)+1):\n",
    "            if i==0:\n",
    "                dp[i][j]=j\n",
    "            elif j==0:\n",
    "                dp[i][j]=i\n",
    "            elif word1[i-1]==word2[j-1]:\n",
    "                dp[i][j]=dp[i-1][j-1]\n",
    "            else:\n",
    "                dp[i][j]=1+min(dp[i-1][j],dp[i][j-1],dp[i-1][j-1])\n",
    "    return dp[-1][-1]\n",
    "print(edit_distance(\"kitten\",\"sitting\"))"
   ]
  },
  {
   "cell_type": "markdown",
   "id": "ce348f3d-cd9d-407b-98e2-650d1fb087e7",
   "metadata": {},
   "source": [
    "#### Task 10: Boggle Game (backtracking)"
   ]
  },
  {
   "cell_type": "code",
   "execution_count": 28,
   "id": "0266fe73-610a-44bf-8b80-1e742d6d48bf",
   "metadata": {},
   "outputs": [
    {
     "name": "stdout",
     "output_type": "stream",
     "text": [
      "set()\n"
     ]
    }
   ],
   "source": [
    "def find_word(board,words):\n",
    "    rows,cols=len(board),len(board[0])\n",
    "    found = set()\n",
    "    wordset = set(words)\n",
    "    def dfs(r,c,path,visited):\n",
    "        if path in wordset:\n",
    "            found.add(path)\n",
    "        if not (0<=r <rows and 0 <= c <cols) or (r,c) in visited:\n",
    "            return visited.add((r,c))\n",
    "        for dr,dc in [(1,0),(-1,0),(0,1),(0,-1),(1,1),(-1,-1),(1,-1),(-1,1)]:\n",
    "            dfs(r+dr,c+dc,path+board[r][c],visited)\n",
    "            visited.remove((r,c))\n",
    "        for r in range(rows):\n",
    "            for c in range(cols):\n",
    "                dfs(r,c,\"\",set())\n",
    "    return found\n",
    "\n",
    "board = [\n",
    "    [\"o\",\"a\",\"t\",\"h\"],\n",
    "    [\"e\",\"t\",\"a\",\"e\"],\n",
    "    [\"i\",\"h\",\"k\",\"r\"],\n",
    "    [\"i\",\"f\",\"l\",\"v\"]\n",
    "]\n",
    "words = [\"oath\",\"pea\",\"eat\",\"rain\",\"hike\"]\n",
    "print(find_word(board,words))"
   ]
  },
  {
   "cell_type": "markdown",
   "id": "2ef7348c-b092-4919-99a8-bb2dc6a36119",
   "metadata": {},
   "source": [
    "#### Task 11. Fibonacci Generator"
   ]
  },
  {
   "cell_type": "code",
   "execution_count": 29,
   "id": "23f3279a-9705-4625-ac17-cec3a21ee2f5",
   "metadata": {},
   "outputs": [
    {
     "name": "stdout",
     "output_type": "stream",
     "text": [
      "0 1 1 2 3 5 8 13 21 34 "
     ]
    }
   ],
   "source": [
    "def fibonacci(n):\n",
    "    a,b =0,1\n",
    "    for _ in range(n):\n",
    "        yield a\n",
    "        a,b=b,a+b\n",
    "for num in fibonacci(10):\n",
    "    print(num,end=\" \")\n"
   ]
  },
  {
   "cell_type": "code",
   "execution_count": null,
   "id": "61d80111-d6c3-43f3-98e4-2044c65e6be9",
   "metadata": {},
   "outputs": [],
   "source": []
  }
 ],
 "metadata": {
  "kernelspec": {
   "display_name": "Python 3 (ipykernel)",
   "language": "python",
   "name": "python3"
  },
  "language_info": {
   "codemirror_mode": {
    "name": "ipython",
    "version": 3
   },
   "file_extension": ".py",
   "mimetype": "text/x-python",
   "name": "python",
   "nbconvert_exporter": "python",
   "pygments_lexer": "ipython3",
   "version": "3.12.2"
  }
 },
 "nbformat": 4,
 "nbformat_minor": 5
}
