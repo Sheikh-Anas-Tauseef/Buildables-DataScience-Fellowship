{
 "cells": [
  {
   "cell_type": "markdown",
   "id": "e684f8e5-70b0-4bbc-bbe0-0a1c3c59ad11",
   "metadata": {},
   "source": [
    "#### Task 1: Palindrome Checker (Word)"
   ]
  },
  {
   "cell_type": "code",
   "execution_count": 1,
   "id": "3851b6a0-0d00-4c39-a4e8-26923c68bc71",
   "metadata": {},
   "outputs": [
    {
     "name": "stdout",
     "output_type": "stream",
     "text": [
      "racecar is a palindrome.\n",
      "Python is not a palindrome.\n"
     ]
    }
   ],
   "source": [
    "def is_palindrome(word):\n",
    "    \"\"\"Check if a word is palindrome\"\"\"\n",
    "    return word == word[::-1]\n",
    "\n",
    "# Test cases\n",
    "word1, word2 = \"racecar\", \"Python\"\n",
    "print(f\"{word1} is{' ' if is_palindrome(word1) else ' not '}a palindrome.\")\n",
    "print(f\"{word2} is{' ' if is_palindrome(word2) else ' not '}a palindrome.\")"
   ]
  },
  {
   "cell_type": "markdown",
   "id": "af7dcd93-0937-4c81-8410-3470e7de92a9",
   "metadata": {},
   "source": [
    "#### Task 2: FizzBuzz"
   ]
  },
  {
   "cell_type": "code",
   "execution_count": 2,
   "id": "88a992e0-c5d7-4e6b-9616-d18c8a006c6c",
   "metadata": {},
   "outputs": [
    {
     "name": "stdout",
     "output_type": "stream",
     "text": [
      "1\n",
      "2\n",
      "Fizz\n",
      "4\n",
      "Buzz\n",
      "Fizz\n",
      "7\n",
      "8\n",
      "Fizz\n",
      "Buzz\n",
      "11\n",
      "Fizz\n",
      "13\n",
      "14\n",
      "FizzBuzz\n",
      "16\n",
      "17\n",
      "Fizz\n",
      "19\n",
      "Buzz\n",
      "Fizz\n",
      "22\n",
      "23\n",
      "Fizz\n",
      "Buzz\n",
      "26\n",
      "Fizz\n",
      "28\n",
      "29\n",
      "FizzBuzz\n"
     ]
    }
   ],
   "source": [
    "def fizzbuzz(n=100):\n",
    "    \"\"\"Print numbers 1 to n with FizzBuzz rules\"\"\"\n",
    "    for i in range(1, n+1):\n",
    "        if i % 3 == 0 and i % 5 == 0:\n",
    "            print(\"FizzBuzz\")\n",
    "        elif i % 3 == 0:\n",
    "            print(\"Fizz\")\n",
    "        elif i % 5 == 0:\n",
    "            print(\"Buzz\")\n",
    "        else:\n",
    "            print(i)\n",
    "\n",
    "fizzbuzz(30)"
   ]
  },
  {
   "cell_type": "markdown",
   "id": "5ee76874-dbc5-4382-8f86-39365f521797",
   "metadata": {},
   "source": [
    "#### Task 3: Nth Fibonacci Number"
   ]
  },
  {
   "cell_type": "code",
   "execution_count": 3,
   "id": "b8e715ad-3dfd-4979-a51d-81a1db01e9f2",
   "metadata": {},
   "outputs": [
    {
     "name": "stdout",
     "output_type": "stream",
     "text": [
      "The 10th Fibonacci number is 55.\n"
     ]
    }
   ],
   "source": [
    "def fibonacci(n):\n",
    "    \"\"\"Return nth Fibonacci number (0-indexed)\"\"\"\n",
    "    a, b = 0, 1\n",
    "    for _ in range(n):\n",
    "        a, b = b, a + b\n",
    "    return a\n",
    "\n",
    "n = 10\n",
    "print(f\"The {n}th Fibonacci number is {fibonacci(n)}.\")"
   ]
  },
  {
   "cell_type": "markdown",
   "id": "4afe2f54-817f-486d-9b34-8aaaad3aaefe",
   "metadata": {},
   "source": [
    "#### Task 4: Prime Number Checker"
   ]
  },
  {
   "cell_type": "code",
   "execution_count": 4,
   "id": "6b3d91c4-f028-467a-84dd-2a15a423b466",
   "metadata": {},
   "outputs": [
    {
     "name": "stdout",
     "output_type": "stream",
     "text": [
      "7 is a prime number.\n",
      "10 is not a prime number.\n"
     ]
    }
   ],
   "source": [
    "def is_prime(num):\n",
    "    \"\"\"Check if number is prime\"\"\"\n",
    "    if num < 2:\n",
    "        return False\n",
    "    for i in range(2, int(num**0.5) + 1):\n",
    "        if num % i == 0:\n",
    "            return False\n",
    "    return True\n",
    "\n",
    "# Test cases\n",
    "for x in [7, 10]:\n",
    "    print(f\"{x} is{' ' if is_prime(x) else ' not '}a prime number.\")"
   ]
  },
  {
   "cell_type": "markdown",
   "id": "2afede2d-0169-40c1-b150-1bb64d57c918",
   "metadata": {},
   "source": [
    "#### Task 5: Guess the Number Game"
   ]
  },
  {
   "cell_type": "code",
   "execution_count": 5,
   "id": "d4a6a068-e815-4572-8d2c-6da56389b161",
   "metadata": {},
   "outputs": [
    {
     "name": "stdin",
     "output_type": "stream",
     "text": [
      "Guess a number (1-100):  1\n"
     ]
    },
    {
     "name": "stdout",
     "output_type": "stream",
     "text": [
      "Too low!\n"
     ]
    },
    {
     "name": "stdin",
     "output_type": "stream",
     "text": [
      "Guess a number (1-100):  99\n"
     ]
    },
    {
     "name": "stdout",
     "output_type": "stream",
     "text": [
      "Too high!\n"
     ]
    },
    {
     "name": "stdin",
     "output_type": "stream",
     "text": [
      "Guess a number (1-100):  50\n"
     ]
    },
    {
     "name": "stdout",
     "output_type": "stream",
     "text": [
      "Too high!\n"
     ]
    },
    {
     "name": "stdin",
     "output_type": "stream",
     "text": [
      "Guess a number (1-100):  30\n"
     ]
    },
    {
     "name": "stdout",
     "output_type": "stream",
     "text": [
      "Too high!\n"
     ]
    },
    {
     "name": "stdin",
     "output_type": "stream",
     "text": [
      "Guess a number (1-100):  33\n"
     ]
    },
    {
     "name": "stdout",
     "output_type": "stream",
     "text": [
      "Too high!\n"
     ]
    },
    {
     "name": "stdin",
     "output_type": "stream",
     "text": [
      "Guess a number (1-100):  20\n"
     ]
    },
    {
     "name": "stdout",
     "output_type": "stream",
     "text": [
      "Too high!\n"
     ]
    },
    {
     "name": "stdin",
     "output_type": "stream",
     "text": [
      "Guess a number (1-100):  10\n"
     ]
    },
    {
     "name": "stdout",
     "output_type": "stream",
     "text": [
      "Too high!\n"
     ]
    },
    {
     "name": "stdin",
     "output_type": "stream",
     "text": [
      "Guess a number (1-100):  5\n"
     ]
    },
    {
     "name": "stdout",
     "output_type": "stream",
     "text": [
      "Too low!\n"
     ]
    },
    {
     "name": "stdin",
     "output_type": "stream",
     "text": [
      "Guess a number (1-100):  6\n"
     ]
    },
    {
     "name": "stdout",
     "output_type": "stream",
     "text": [
      "Correct!\n"
     ]
    }
   ],
   "source": [
    "import random\n",
    "\n",
    "def guess_game():\n",
    "    \"\"\"User guesses number until correct\"\"\"\n",
    "    secret = random.randint(1, 100)\n",
    "    while True:\n",
    "        guess = int(input(\"Guess a number (1-100): \"))\n",
    "        if guess < secret:\n",
    "            print(\"Too low!\")\n",
    "        elif guess > secret:\n",
    "            print(\"Too high!\")\n",
    "        else:\n",
    "            print(\"Correct!\")\n",
    "            break\n",
    "\n",
    "# Uncomment to play\n",
    "guess_game()"
   ]
  },
  {
   "cell_type": "markdown",
   "id": "fe85a466-245e-4c9b-99a6-c8acf113305a",
   "metadata": {},
   "source": [
    "#### Task 6: List Comprehension"
   ]
  },
  {
   "cell_type": "code",
   "execution_count": 6,
   "id": "3c4c0584-760f-45c2-89da-8566e1f74a8f",
   "metadata": {},
   "outputs": [
    {
     "name": "stdout",
     "output_type": "stream",
     "text": [
      "Squares of first 10 integers: [1, 4, 9, 16, 25, 36, 49, 64, 81, 100]\n"
     ]
    }
   ],
   "source": [
    "squares = [x**2 for x in range(1, 11)]\n",
    "print(\"Squares of first 10 integers:\", squares)"
   ]
  },
  {
   "cell_type": "markdown",
   "id": "672927c9-a372-4c9b-a040-26812ff1a5c8",
   "metadata": {},
   "source": [
    "#### Task 8: Anagram Checker"
   ]
  },
  {
   "cell_type": "code",
   "execution_count": 7,
   "id": "aedaeecb-43af-4077-976b-3ca4fca1efaf",
   "metadata": {},
   "outputs": [
    {
     "name": "stdout",
     "output_type": "stream",
     "text": [
      "\"listen\" and \"silent\" -> are anagrams.\n",
      "\"python\" and \"java\" -> are not anagrams.\n"
     ]
    }
   ],
   "source": [
    "def are_anagrams(word1, word2):\n",
    "    \"\"\"Check if two words are anagrams\"\"\"\n",
    "    return sorted(word1.lower()) == sorted(word2.lower())\n",
    "\n",
    "pairs = [(\"listen\", \"silent\"), (\"python\", \"java\")]\n",
    "for w1, w2 in pairs:\n",
    "    print(f\"\\\"{w1}\\\" and \\\"{w2}\\\" -> {'are' if are_anagrams(w1, w2) else 'are not'} anagrams.\")"
   ]
  },
  {
   "cell_type": "code",
   "execution_count": null,
   "id": "3a056f16-fe15-4a0b-9817-ed7607633dac",
   "metadata": {},
   "outputs": [],
   "source": [
    "# ================================\n",
    "# Task 9: Reverse Words in a Sentence\n",
    "# ================================\n",
    "def reverse_sentence(sentence):\n",
    "    \"\"\"Reverse word order in a sentence\"\"\"\n",
    "    return \" \".join(sentence.split()[::-1])\n",
    "\n",
    "sentence = \"The quick brown fox jumps over the lazy dog.\"\n",
    "print(\"Reversed:\", reverse_sentence(sentence))\n",
    "\n"
   ]
  },
  {
   "cell_type": "markdown",
   "id": "a5cf5818-8581-4f8a-92fc-4cdc608b017a",
   "metadata": {},
   "source": [
    "#### Task 10: Temperature Converter"
   ]
  },
  {
   "cell_type": "code",
   "execution_count": 8,
   "id": "d9bb14e6-5448-4784-8f2b-e0ad6e6f292c",
   "metadata": {},
   "outputs": [
    {
     "name": "stdout",
     "output_type": "stream",
     "text": [
      "20°C = 68.0°F = 293.15K\n"
     ]
    }
   ],
   "source": [
    "def convert_temperature(celsius):\n",
    "    \"\"\"Convert Celsius into Fahrenheit and Kelvin\"\"\"\n",
    "    fahrenheit = (celsius * 9/5) + 32\n",
    "    kelvin = celsius + 273.15\n",
    "    return fahrenheit, kelvin\n",
    "\n",
    "c = 20\n",
    "f, k = convert_temperature(c)\n",
    "print(f\"{c}°C = {f}°F = {k}K\")"
   ]
  },
  {
   "cell_type": "markdown",
   "id": "44585124-f670-4719-aa5d-30de66e41a1f",
   "metadata": {},
   "source": [
    "#### Task 11: Custom Iterator"
   ]
  },
  {
   "cell_type": "code",
   "execution_count": 10,
   "id": "f45df147-9322-49ab-b53c-a0e1779205db",
   "metadata": {},
   "outputs": [
    {
     "name": "stdout",
     "output_type": "stream",
     "text": [
      "Even Numbers upto 10: \n",
      "0 2 4 6 8 10 "
     ]
    }
   ],
   "source": [
    "def even_numbers(limit):\n",
    "    for num in range(0,limit+1,2):\n",
    "        yield num\n",
    "\n",
    "print(\"Even Numbers upto 10: \")\n",
    "for num in even_numbers(10):\n",
    "    print(num,end=\" \")"
   ]
  },
  {
   "cell_type": "code",
   "execution_count": null,
   "id": "bc130f13-af5a-4779-bbde-8187d3535657",
   "metadata": {},
   "outputs": [],
   "source": []
  }
 ],
 "metadata": {
  "kernelspec": {
   "display_name": "Python 3 (ipykernel)",
   "language": "python",
   "name": "python3"
  },
  "language_info": {
   "codemirror_mode": {
    "name": "ipython",
    "version": 3
   },
   "file_extension": ".py",
   "mimetype": "text/x-python",
   "name": "python",
   "nbconvert_exporter": "python",
   "pygments_lexer": "ipython3",
   "version": "3.12.2"
  }
 },
 "nbformat": 4,
 "nbformat_minor": 5
}
