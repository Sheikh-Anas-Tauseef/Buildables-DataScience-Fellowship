{
 "cells": [
  {
   "cell_type": "markdown",
   "id": "729dde40-62a3-4f52-a1c7-3d91462f5291",
   "metadata": {},
   "source": [
    "## TASK 7 - Basic Statistics and Probability II\n",
    "### Statistical Analysis and Probability Distributions with the Iris Dataset"
   ]
  },
  {
   "cell_type": "code",
   "execution_count": 1,
   "id": "9df28778-c3b9-49e1-963c-deb00daaeb5c",
   "metadata": {},
   "outputs": [
    {
     "data": {
      "text/html": [
       "<div>\n",
       "<style scoped>\n",
       "    .dataframe tbody tr th:only-of-type {\n",
       "        vertical-align: middle;\n",
       "    }\n",
       "\n",
       "    .dataframe tbody tr th {\n",
       "        vertical-align: top;\n",
       "    }\n",
       "\n",
       "    .dataframe thead th {\n",
       "        text-align: right;\n",
       "    }\n",
       "</style>\n",
       "<table border=\"1\" class=\"dataframe\">\n",
       "  <thead>\n",
       "    <tr style=\"text-align: right;\">\n",
       "      <th></th>\n",
       "      <th>sepal_length</th>\n",
       "      <th>sepal_width</th>\n",
       "      <th>petal_length</th>\n",
       "      <th>petal_width</th>\n",
       "      <th>species</th>\n",
       "    </tr>\n",
       "  </thead>\n",
       "  <tbody>\n",
       "    <tr>\n",
       "      <th>0</th>\n",
       "      <td>5.1</td>\n",
       "      <td>3.5</td>\n",
       "      <td>1.4</td>\n",
       "      <td>0.2</td>\n",
       "      <td>0</td>\n",
       "    </tr>\n",
       "    <tr>\n",
       "      <th>1</th>\n",
       "      <td>4.9</td>\n",
       "      <td>3.0</td>\n",
       "      <td>1.4</td>\n",
       "      <td>0.2</td>\n",
       "      <td>0</td>\n",
       "    </tr>\n",
       "    <tr>\n",
       "      <th>2</th>\n",
       "      <td>4.7</td>\n",
       "      <td>3.2</td>\n",
       "      <td>1.3</td>\n",
       "      <td>0.2</td>\n",
       "      <td>0</td>\n",
       "    </tr>\n",
       "    <tr>\n",
       "      <th>3</th>\n",
       "      <td>4.6</td>\n",
       "      <td>3.1</td>\n",
       "      <td>1.5</td>\n",
       "      <td>0.2</td>\n",
       "      <td>0</td>\n",
       "    </tr>\n",
       "    <tr>\n",
       "      <th>4</th>\n",
       "      <td>5.0</td>\n",
       "      <td>3.6</td>\n",
       "      <td>1.4</td>\n",
       "      <td>0.2</td>\n",
       "      <td>0</td>\n",
       "    </tr>\n",
       "  </tbody>\n",
       "</table>\n",
       "</div>"
      ],
      "text/plain": [
       "   sepal_length  sepal_width  petal_length  petal_width  species\n",
       "0           5.1          3.5           1.4          0.2        0\n",
       "1           4.9          3.0           1.4          0.2        0\n",
       "2           4.7          3.2           1.3          0.2        0\n",
       "3           4.6          3.1           1.5          0.2        0\n",
       "4           5.0          3.6           1.4          0.2        0"
      ]
     },
     "execution_count": 1,
     "metadata": {},
     "output_type": "execute_result"
    }
   ],
   "source": [
    "import pandas as pd\n",
    "import numpy as np\n",
    "import seaborn as sns\n",
    "import matplotlib.pyplot as plt\n",
    "from scipy import stats\n",
    "from sklearn.datasets import load_iris\n",
    "\n",
    "# Load the Iris dataset into a DataFrame\n",
    "iris_data = load_iris(as_frame=True)\n",
    "iris = iris_data.frame\n",
    "iris.columns = [\"sepal_length\", \"sepal_width\", \"petal_length\", \"petal_width\", \"species\"]\n",
    "\n",
    "iris.head()"
   ]
  },
  {
   "cell_type": "markdown",
   "id": "a86edc40-c150-4a19-a311-81ffe539778d",
   "metadata": {},
   "source": [
    "#### Descriptive Statistics\n",
    "Central Tendencies: Mean, Median, Mode of Sepal Length"
   ]
  },
  {
   "cell_type": "code",
   "execution_count": 2,
   "id": "cb208a05-4b44-4a43-bcca-4369801fbda2",
   "metadata": {},
   "outputs": [
    {
     "name": "stdout",
     "output_type": "stream",
     "text": [
      "Mean Sepal Length: 5.843333333333334\n",
      "Median Sepal Length: 5.8\n",
      "Mode Sepal Length: 5.0\n"
     ]
    }
   ],
   "source": [
    "mean_sl = iris[\"sepal_length\"].mean()\n",
    "median_sl = iris[\"sepal_length\"].median()\n",
    "mode_sl = iris[\"sepal_length\"].mode()[0]\n",
    "\n",
    "print(\"Mean Sepal Length:\", mean_sl)\n",
    "print(\"Median Sepal Length:\", median_sl)\n",
    "print(\"Mode Sepal Length:\", mode_sl)\n"
   ]
  },
  {
   "cell_type": "markdown",
   "id": "ef5a6923-2727-4092-aab9-e77d0a3aadde",
   "metadata": {},
   "source": [
    "#### Dispersion Measures: Variance & Standard Deviation of Petal Width"
   ]
  },
  {
   "cell_type": "code",
   "execution_count": 3,
   "id": "ea182a45-7c1b-4c8a-a452-5e800e2b6906",
   "metadata": {},
   "outputs": [
    {
     "name": "stdout",
     "output_type": "stream",
     "text": [
      "Variance of Petal Width: 0.5810062639821029\n",
      "Standard Deviation of Petal Width: 0.7622376689603465\n"
     ]
    }
   ],
   "source": [
    "var_pw = iris[\"petal_width\"].var()\n",
    "std_pw = iris[\"petal_width\"].std()\n",
    "\n",
    "print(\"Variance of Petal Width:\", var_pw)\n",
    "print(\"Standard Deviation of Petal Width:\", std_pw)\n"
   ]
  },
  {
   "cell_type": "markdown",
   "id": "2cfd6bd4-fd55-47f6-9645-8a1509683c7f",
   "metadata": {},
   "source": [
    "#### Summary Statistics for All Numerical Features"
   ]
  },
  {
   "cell_type": "code",
   "execution_count": 4,
   "id": "bbefbc28-dc5c-4825-8787-6e0fdeed86c0",
   "metadata": {},
   "outputs": [
    {
     "data": {
      "text/html": [
       "<div>\n",
       "<style scoped>\n",
       "    .dataframe tbody tr th:only-of-type {\n",
       "        vertical-align: middle;\n",
       "    }\n",
       "\n",
       "    .dataframe tbody tr th {\n",
       "        vertical-align: top;\n",
       "    }\n",
       "\n",
       "    .dataframe thead th {\n",
       "        text-align: right;\n",
       "    }\n",
       "</style>\n",
       "<table border=\"1\" class=\"dataframe\">\n",
       "  <thead>\n",
       "    <tr style=\"text-align: right;\">\n",
       "      <th></th>\n",
       "      <th>sepal_length</th>\n",
       "      <th>sepal_width</th>\n",
       "      <th>petal_length</th>\n",
       "      <th>petal_width</th>\n",
       "    </tr>\n",
       "  </thead>\n",
       "  <tbody>\n",
       "    <tr>\n",
       "      <th>mean</th>\n",
       "      <td>5.843333</td>\n",
       "      <td>3.057333</td>\n",
       "      <td>3.758000</td>\n",
       "      <td>1.199333</td>\n",
       "    </tr>\n",
       "    <tr>\n",
       "      <th>median</th>\n",
       "      <td>5.800000</td>\n",
       "      <td>3.000000</td>\n",
       "      <td>4.350000</td>\n",
       "      <td>1.300000</td>\n",
       "    </tr>\n",
       "    <tr>\n",
       "      <th>var</th>\n",
       "      <td>0.685694</td>\n",
       "      <td>0.189979</td>\n",
       "      <td>3.116278</td>\n",
       "      <td>0.581006</td>\n",
       "    </tr>\n",
       "    <tr>\n",
       "      <th>std</th>\n",
       "      <td>0.828066</td>\n",
       "      <td>0.435866</td>\n",
       "      <td>1.765298</td>\n",
       "      <td>0.762238</td>\n",
       "    </tr>\n",
       "  </tbody>\n",
       "</table>\n",
       "</div>"
      ],
      "text/plain": [
       "        sepal_length  sepal_width  petal_length  petal_width\n",
       "mean        5.843333     3.057333      3.758000     1.199333\n",
       "median      5.800000     3.000000      4.350000     1.300000\n",
       "var         0.685694     0.189979      3.116278     0.581006\n",
       "std         0.828066     0.435866      1.765298     0.762238"
      ]
     },
     "execution_count": 4,
     "metadata": {},
     "output_type": "execute_result"
    }
   ],
   "source": [
    "summary_stats = iris.drop(columns=\"species\").agg([\"mean\", \"median\", \"var\", \"std\"])\n",
    "summary_stats\n"
   ]
  },
  {
   "cell_type": "markdown",
   "id": "3f250854-99b6-490f-a96b-df0ef37fbcb6",
   "metadata": {},
   "source": [
    "#### Probability & Distributions"
   ]
  },
  {
   "cell_type": "code",
   "execution_count": 5,
   "id": "c20153ee-6481-40a0-bff2-91e1908b7805",
   "metadata": {},
   "outputs": [
    {
     "data": {
      "text/plain": [
       "sepal_length\n",
       "4.3    0.006667\n",
       "4.4    0.020000\n",
       "4.5    0.006667\n",
       "4.6    0.026667\n",
       "4.7    0.013333\n",
       "4.8    0.033333\n",
       "4.9    0.040000\n",
       "5.0    0.066667\n",
       "5.1    0.060000\n",
       "5.2    0.026667\n",
       "5.3    0.006667\n",
       "5.4    0.040000\n",
       "5.5    0.046667\n",
       "5.6    0.040000\n",
       "5.7    0.053333\n",
       "5.8    0.046667\n",
       "5.9    0.020000\n",
       "6.0    0.040000\n",
       "6.1    0.040000\n",
       "6.2    0.026667\n",
       "6.3    0.060000\n",
       "6.4    0.046667\n",
       "6.5    0.033333\n",
       "6.6    0.013333\n",
       "6.7    0.053333\n",
       "6.8    0.020000\n",
       "6.9    0.026667\n",
       "7.0    0.006667\n",
       "7.1    0.006667\n",
       "7.2    0.020000\n",
       "7.3    0.006667\n",
       "7.4    0.006667\n",
       "7.6    0.006667\n",
       "7.7    0.026667\n",
       "7.9    0.006667\n",
       "Name: proportion, dtype: float64"
      ]
     },
     "execution_count": 5,
     "metadata": {},
     "output_type": "execute_result"
    }
   ],
   "source": [
    "# Relative frequency distribution\n",
    "prob_dist = iris[\"sepal_length\"].value_counts(normalize=True).sort_index()\n",
    "prob_dist\n"
   ]
  },
  {
   "cell_type": "markdown",
   "id": "5e39e099-9c28-41c4-95a6-902614544f54",
   "metadata": {},
   "source": [
    "#### Histogram of Sepal Length"
   ]
  },
  {
   "cell_type": "code",
   "execution_count": 6,
   "id": "c40af03c-add7-4245-a221-a5f1a7ef847d",
   "metadata": {},
   "outputs": [
    {
     "data": {
      "image/png": "[encoded data removed]",
      "text/plain": [
       "<Figure size 640x480 with 1 Axes>"
      ]
     },
     "metadata": {},
     "output_type": "display_data"
    }
   ],
   "source": [
    "plt.hist(iris[\"sepal_length\"], bins=15, density=True, alpha=0.7, color=\"skyblue\")\n",
    "plt.title(\"Probability Distribution of Sepal Lengths\")\n",
    "plt.xlabel(\"Sepal Length (cm)\")\n",
    "plt.ylabel(\"Probability Density\")\n",
    "plt.show()\n"
   ]
  },
  {
   "cell_type": "markdown",
   "id": "b1a5cc8a-944a-4bc9-a9df-ff93338820ba",
   "metadata": {},
   "source": [
    "#### Cumulative Distribution Function (CDF) for Petal Length"
   ]
  },
  {
   "cell_type": "code",
   "execution_count": 7,
   "id": "7677a3ea-0b20-48fe-9cd0-54f12a2afd8c",
   "metadata": {},
   "outputs": [
    {
     "data": {
      "image/png": "[encoded data removed]",
      "text/plain": [
       "<Figure size 640x480 with 1 Axes>"
      ]
     },
     "metadata": {},
     "output_type": "display_data"
    }
   ],
   "source": [
    "x = np.sort(iris[\"petal_length\"])\n",
    "y = np.arange(1, len(x)+1) / len(x)\n",
    "\n",
    "plt.plot(x, y, marker=\".\", linestyle=\"none\")\n",
    "plt.title(\"CDF of Petal Lengths\")\n",
    "plt.xlabel(\"Petal Length (cm)\")\n",
    "plt.ylabel(\"Cumulative Probability\")\n",
    "plt.show()\n"
   ]
  },
  {
   "cell_type": "markdown",
   "id": "83c9825c-c391-4ecc-ad00-4aa6556d8a46",
   "metadata": {},
   "source": [
    "#### Probability Density Function (PDF) for Sepal Width"
   ]
  },
  {
   "cell_type": "code",
   "execution_count": 8,
   "id": "a395c116-1ec5-4dfd-80bd-e929cda0091f",
   "metadata": {},
   "outputs": [
    {
     "data": {
      "image/png": "[encoded data removed]",
      "text/plain": [
       "<Figure size 640x480 with 1 Axes>"
      ]
     },
     "metadata": {},
     "output_type": "display_data"
    }
   ],
   "source": [
    "sns.kdeplot(iris[\"sepal_width\"], fill=True, color=\"green\")\n",
    "plt.title(\"PDF of Sepal Widths\")\n",
    "plt.xlabel(\"Sepal Width (cm)\")\n",
    "plt.ylabel(\"Density\")\n",
    "plt.show()\n"
   ]
  },
  {
   "cell_type": "markdown",
   "id": "3d9e88a9-f4a2-44a6-badd-b0604932bc12",
   "metadata": {},
   "source": [
    "#### Probability Estimation: Petal Length > 4.5 cm"
   ]
  },
  {
   "cell_type": "code",
   "execution_count": 9,
   "id": "62527c28-aa75-4452-8adc-ec5596a09b9b",
   "metadata": {},
   "outputs": [
    {
     "name": "stdout",
     "output_type": "stream",
     "text": [
      "P(Petal Length > 4.5 cm): 0.42\n"
     ]
    }
   ],
   "source": [
    "prob_over_45 = np.mean(iris[\"petal_length\"] > 4.5)\n",
    "print(\"P(Petal Length > 4.5 cm):\", prob_over_45)\n"
   ]
  },
  {
   "cell_type": "markdown",
   "id": "44930b01-cbf7-4ae1-b892-beaab45afc88",
   "metadata": {},
   "source": [
    "#### Inferential Statistics"
   ]
  },
  {
   "cell_type": "code",
   "execution_count": 10,
   "id": "0033a211-529d-4c56-a208-e3bd7c4c3c48",
   "metadata": {},
   "outputs": [
    {
     "name": "stdout",
     "output_type": "stream",
     "text": [
      "t-statistic: nan\n",
      "p-value: nan\n"
     ]
    },
    {
     "name": "stderr",
     "output_type": "stream",
     "text": [
      "C:\\Users\\rameez computer\\AppData\\Local\\Programs\\Python\\Python312\\Lib\\site-packages\\scipy\\_lib\\deprecation.py:234: SmallSampleWarning: One or more sample arguments is too small; all returned values will be NaN. See documentation for sample size requirements.\n",
      "  return f(*args, **kwargs)\n"
     ]
    }
   ],
   "source": [
    "setosa = iris[iris[\"species\"] == \"setosa\"][\"petal_length\"]\n",
    "versicolor = iris[iris[\"species\"] == \"versicolor\"][\"petal_length\"]\n",
    "\n",
    "t_stat, p_val = stats.ttest_ind(setosa, versicolor)\n",
    "print(\"t-statistic:\", t_stat)\n",
    "print(\"p-value:\", p_val)\n"
   ]
  },
  {
   "cell_type": "markdown",
   "id": "b99b8272-2d4d-4ecd-a8b0-c7fca8e6df00",
   "metadata": {},
   "source": [
    "#### Covariance & Correlation Between Sepal Length and Sepal Width"
   ]
  },
  {
   "cell_type": "code",
   "execution_count": 11,
   "id": "068cc958-31a4-4124-8509-e7a4fec6e681",
   "metadata": {},
   "outputs": [
    {
     "name": "stdout",
     "output_type": "stream",
     "text": [
      "Covariance: -0.042434004474272945\n",
      "Correlation: -0.1175697841330021\n"
     ]
    }
   ],
   "source": [
    "cov = iris[\"sepal_length\"].cov(iris[\"sepal_width\"])\n",
    "corr = iris[\"sepal_length\"].corr(iris[\"sepal_width\"])\n",
    "\n",
    "print(\"Covariance:\", cov)\n",
    "print(\"Correlation:\", corr)\n"
   ]
  },
  {
   "cell_type": "code",
   "execution_count": null,
   "id": "f6ea2ef3-4d32-4c6c-ba6e-ae8105c6b98a",
   "metadata": {},
   "outputs": [],
   "source": []
  }
 ],
 "metadata": {
  "kernelspec": {
   "display_name": "Python 3 (ipykernel)",
   "language": "python",
   "name": "python3"
  },
  "language_info": {
   "codemirror_mode": {
    "name": "ipython",
    "version": 3
   },
   "file_extension": ".py",
   "mimetype": "text/x-python",
   "name": "python",
   "nbconvert_exporter": "python",
   "pygments_lexer": "ipython3",
   "version": "3.12.2"
  }
 },
 "nbformat": 4,
 "nbformat_minor": 5
}
